{
 "cells": [
  {
   "cell_type": "markdown",
   "metadata": {},
   "source": [
    "## Lectura preliminar\n",
    "\n",
    "Considere las siguientes propuestas de implementacion para obtener $A^{2}$, es decir, elevar una matriz al cuadrado:\n",
    "* np.power(A,2)\n",
    "* np.dot(A,A)\n",
    "* A @ A\n",
    "* np.linalg.matrix_power(A,2)\n",
    "\n",
    "¿Son todas estas alternativas equivalentes? Si no lo fueran, explique."
   ]
  },
  {
   "cell_type": "code",
   "execution_count": null,
   "metadata": {},
   "outputs": [],
   "source": [
    "import numpy as np"
   ]
  },
  {
   "cell_type": "markdown",
   "metadata": {},
   "source": [
    "### numpy.power \n",
    "\n",
    "* Calcula la potencia elemento a elemento\n",
    "* No eleva la matriz al cuadrado en el sentido matricial\n",
    "* Eleva cada elemento al cuadrado\n",
    "\n",
    "[numpy.power — NumPy v1.25 Manual](https://numpy.org/doc/stable/reference/generated/numpy.power.html)\n",
    "\n",
    "First array elements raised to powers from second array, element-wise.\n",
    "\n",
    "Raise each base in x1 to the positionally-corresponding power in x2. x1 and x2 must be broadcastable to the same shape.\n",
    "\n",
    "An integer type raised to a negative integer power will raise a ValueError.\n",
    "\n",
    "Negative values raised to a non-integral value will return nan. To get complex results, cast the input to complex, or specify the dtype to be complex (see the example below)."
   ]
  },
  {
   "cell_type": "code",
   "execution_count": null,
   "metadata": {},
   "outputs": [
    {
     "data": {
      "text/plain": [
       "array([0, 1, 2, 3, 4, 5])"
      ]
     },
     "metadata": {},
     "output_type": "display_data"
    }
   ],
   "source": [
    "x1 = np.arange(6)\n",
    "x1"
   ]
  },
  {
   "cell_type": "code",
   "execution_count": null,
   "metadata": {},
   "outputs": [
    {
     "data": {
      "text/plain": [
       "array([  0,   1,   8,  27,  64, 125])"
      ]
     },
     "metadata": {},
     "output_type": "display_data"
    }
   ],
   "source": [
    "np.power(x1, 3)"
   ]
  },
  {
   "cell_type": "code",
   "execution_count": null,
   "metadata": {},
   "outputs": [
    {
     "data": {
      "text/plain": [
       "array([ 0.,  1.,  8., 27., 16.,  5.])"
      ]
     },
     "metadata": {},
     "output_type": "display_data"
    }
   ],
   "source": [
    "x2 = [1.0, 2.0, 3.0, 3.0, 2.0, 1.0]\n",
    "np.power(x1,x2)"
   ]
  },
  {
   "cell_type": "markdown",
   "metadata": {},
   "source": [
    "The ** operator can be used as a shorthand for np.power on ndarrays."
   ]
  },
  {
   "cell_type": "code",
   "execution_count": null,
   "metadata": {},
   "outputs": [
    {
     "data": {
      "text/plain": [
       "array([ 0,  1,  8, 27, 16,  5])"
      ]
     },
     "metadata": {},
     "output_type": "display_data"
    }
   ],
   "source": [
    "x2 = np.array([1, 2, 3, 3, 2, 1])\n",
    "x1 = np.arange(6)\n",
    "x1 ** x2"
   ]
  },
  {
   "cell_type": "code",
   "execution_count": null,
   "metadata": {},
   "outputs": [
    {
     "data": {
      "text/plain": [
       "array([[4, 4],\n",
       "       [4, 4]])"
      ]
     },
     "metadata": {},
     "output_type": "display_data"
    }
   ],
   "source": [
    "# Calcula la potencia elemento a elemento\n",
    "# No eleva la matriz al cuadrado en el sentido matricial\n",
    "# Eleva cada elemento al cuadrado\n",
    "\n",
    "A = np.array([ [2, 2], [2, 2] ])\n",
    "np.power(A,2)"
   ]
  },
  {
   "cell_type": "markdown",
   "metadata": {},
   "source": [
    "### numpy.dot\n",
    "\n",
    "* Calcula el producto punto (producto matricial) de A consigo misma\n",
    "* El resultado es la multiplicación de matrices estándar, y es equivalente a $A^2$ en términos matriciales. Esta es la forma correcta de elevar una matriz al cuadrado.\n",
    "\n",
    "[numpy.dot — NumPy v1.25 Manual](https://numpy.org/doc/stable/reference/generated/numpy.dot.html#numpy.dot)\n",
    "\n",
    "\n",
    "Dot product of two arrays. Specifically,\n",
    "\n",
    "* If both a and b are 1-D arrays, it is inner product of vectors (without complex conjugation).\n",
    "\n",
    "* If both a and b are 2-D arrays, it is matrix multiplication, but using matmul or a @ b is preferred.\n",
    "\n",
    "* If either a or b is 0-D (scalar), it is equivalent to multiply and using numpy.multiply(a, b) or a * b is preferred.\n",
    "\n",
    "* If a is an N-D array and b is a 1-D array, it is a sum product over the last axis of a and b.\n",
    "\n",
    "* If a is an N-D array and b is an M-D array (where M>=2), it is a sum product over the last axis of a and the second-to-last axis of b:\n",
    "\n",
    "```dot(a, b)[i,j,k,m] = sum(a[i,j,:] * b[k,:,m])```\n",
    "\n",
    "\n"
   ]
  },
  {
   "cell_type": "code",
   "execution_count": null,
   "metadata": {},
   "outputs": [
    {
     "data": {
      "text/plain": [
       "array([[8, 8],\n",
       "       [8, 8]])"
      ]
     },
     "metadata": {},
     "output_type": "display_data"
    }
   ],
   "source": [
    "A = np.array([ [2, 2], [2, 2] ])\n",
    "np.dot(A,A)"
   ]
  },
  {
   "cell_type": "markdown",
   "metadata": {},
   "source": [
    "### numpy.linalg\n",
    "\n",
    "[Linear algebra (numpy.linalg) — NumPy v1.25 Manual](https://numpy.org/doc/stable/reference/routines.linalg.html#module-numpy.linalg)\n",
    "\n",
    "The NumPy linear algebra functions rely on BLAS and LAPACK to provide efficient low level implementations of standard linear algebra algorithms. Those libraries may be provided by NumPy itself using C versions of a subset of their reference implementations but, when possible, highly optimized libraries that take advantage of specialized processor functionality are preferred. Examples of such libraries are OpenBLAS, MKL (TM), and ATLAS. Because those libraries are multithreaded and processor dependent, environmental variables and external packages such as threadpoolctl may be needed to control the number of threads or specify the processor architecture.\n",
    "\n",
    "\n",
    "**The ```@``` operator**\n",
    "\n",
    "Introduced in NumPy 1.10.0, the ```@``` operator is preferable to other methods when computing the matrix product between 2d arrays. The numpy.matmul function implements the ```@``` operator.\n"
   ]
  },
  {
   "cell_type": "code",
   "execution_count": null,
   "metadata": {},
   "outputs": [
    {
     "data": {
      "text/plain": [
       "array([[8, 8],\n",
       "       [8, 8]])"
      ]
     },
     "metadata": {},
     "output_type": "display_data"
    }
   ],
   "source": [
    "# np.dot(A, A) es equivalente a:\n",
    "A @ A"
   ]
  },
  {
   "cell_type": "markdown",
   "metadata": {},
   "source": [
    "### np.linalg.matrix_power\n",
    "\n",
    "* Esta función calcula la potencia de una matriz en términos de la multiplicación de matrices. También es equivalente a A^2 en términos matriciales.\n",
    "* Usa un algoritmo eficiente\n",
    "\n",
    "[numpy.linalg.matrix_power — NumPy v1.25 Manual](https://numpy.org/doc/stable/reference/generated/numpy.linalg.matrix_power.html#numpy.linalg.matrix_power)\n",
    "\n",
    "Raise a square matrix to the (integer) power n.\n",
    "\n",
    "For positive integers n, the power is computed by repeated matrix squarings and matrix multiplications. If n == 0, the identity matrix of the same shape as M is returned. If n < 0, the inverse is computed and then raised to the abs(n)."
   ]
  }
 ],
 "metadata": {
  "language_info": {
   "name": "python"
  },
  "orig_nbformat": 4
 },
 "nbformat": 4,
 "nbformat_minor": 2
}
