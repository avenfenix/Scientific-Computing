{
 "cells": [
  {
   "cell_type": "markdown",
   "metadata": {},
   "source": [
    "# Guia Certamen 1\n",
    "\n",
    "Siguiendo la <a href=\"./INF-285-Guía-C1-2023-2-v1.00.pdf\">Guia oficial del curso</a> \n",
    "\n",
    "1. [Lectura preliminar](./guia_certamen_1/1_lectura_preliminar.ipynb)\n",
    "\n",
    "2. Ejercicios propuestos\n",
    "\n",
    "    2.1 [Raices](./guia_certamen_1/raices.ipynb)\n",
    "    \n",
    "    2.2 [Ecuaciones de cuarto grado](./guia_certamen_1/2.2_ecuaciones_cuarto_grado.ipynb)\n",
    "\n",
    "    2.3 [Polinomios y Matrices](./guia_certamen_1/2.3_polinomios_y_matrices.ipynb)\n",
    "\n",
    "    2.4 [Evaluaciones problematicas y adecuadas](./guia_certamen_1/2.4_evaluaciones_problematicas_y_adecuadas.ipynb)\n",
    "\n",
    "    2.5 [Varias variables](./guia_certamen_1/2.5_varias_variables.ipynb)\n",
    "\n",
    "    2.6 [Que se busca](./guia_certamen_1/2.6_que_se_busca.ipynb)\n",
    "\n",
    "    2.7 [Implicancia de FPS en factorizacion LU](./guia_certamen_1/2.7_implicancia_fps_factorizacion_lu.ipynb)\n",
    "\n",
    "    2.8 [Serie truncada](./guia_certamen_1/2.8_serie_truncada.ipynb)\n",
    "\n",
    "    2.9 [Computacion de la inversa](./guia_certamen_1/2.9_computacion_inversa.ipynb)\n",
    "\n",
    "    2.10 [Visitando la expansion en serie de Taylor de la funcion exponencial](./guia_certamen_1/2.10_expansion_taylor_funcion_exponencial.ipynb)\n"
   ]
  },
  {
   "cell_type": "code",
   "execution_count": null,
   "metadata": {},
   "outputs": [],
   "source": []
  }
 ],
 "metadata": {
  "kernelspec": {
   "display_name": "Python 3 (ipykernel)",
   "language": "python",
   "name": "python3"
  },
  "language_info": {
   "codemirror_mode": {
    "name": "ipython",
    "version": 3
   },
   "file_extension": ".py",
   "mimetype": "text/x-python",
   "name": "python",
   "nbconvert_exporter": "python",
   "pygments_lexer": "ipython3",
   "version": "3.9.2"
  },
  "orig_nbformat": 4
 },
 "nbformat": 4,
 "nbformat_minor": 2
}
